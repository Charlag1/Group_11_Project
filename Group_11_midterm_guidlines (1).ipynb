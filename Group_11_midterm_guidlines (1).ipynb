{
  "cells": [
    {
      "cell_type": "markdown",
      "metadata": {
        "id": "view-in-github",
        "colab_type": "text"
      },
      "source": [
        "<a href=\"https://colab.research.google.com/github/Charlag1/Group_11_Project/blob/main/Group_11_midterm_guidlines%20(1).ipynb\" target=\"_parent\"><img src=\"https://colab.research.google.com/assets/colab-badge.svg\" alt=\"Open In Colab\"/></a>"
      ]
    },
    {
      "cell_type": "markdown",
      "id": "c727073b-24c3-4ff7-9365-f58a546b342c",
      "metadata": {
        "id": "c727073b-24c3-4ff7-9365-f58a546b342c"
      },
      "source": [
        "# Spotify Songs Dataset"
      ]
    },
    {
      "cell_type": "markdown",
      "id": "14258136-5b18-4bc4-9560-57d23a0c0d4c",
      "metadata": {
        "id": "14258136-5b18-4bc4-9560-57d23a0c0d4c"
      },
      "source": [
        "## Objective\n",
        "\n",
        "```\n",
        "# This is formatted as code\n",
        "```\n",
        "\n"
      ]
    },
    {
      "cell_type": "markdown",
      "id": "384ed432-a4c2-44d5-997f-8f448f289bf7",
      "metadata": {
        "id": "384ed432-a4c2-44d5-997f-8f448f289bf7"
      },
      "source": [
        "## Required packages:"
      ]
    },
    {
      "cell_type": "code",
      "execution_count": 1,
      "id": "cb93314e-5ff6-46a7-a175-ba17239789bd",
      "metadata": {
        "id": "cb93314e-5ff6-46a7-a175-ba17239789bd"
      },
      "outputs": [],
      "source": [
        "import pandas as pd"
      ]
    }
  ],
  "metadata": {
    "kernelspec": {
      "display_name": "Python 3 (ipykernel)",
      "language": "python",
      "name": "python3"
    },
    "language_info": {
      "codemirror_mode": {
        "name": "ipython",
        "version": 3
      },
      "file_extension": ".py",
      "mimetype": "text/x-python",
      "name": "python",
      "nbconvert_exporter": "python",
      "pygments_lexer": "ipython3",
      "version": "3.12.11"
    },
    "colab": {
      "provenance": [],
      "include_colab_link": true
    }
  },
  "nbformat": 4,
  "nbformat_minor": 5
}