{
 "cells": [
  {
   "cell_type": "markdown",
   "id": "c727073b-24c3-4ff7-9365-f58a546b342c",
   "metadata": {},
   "source": [
    "# Spotify Songs Dataset "
   ]
  },
  {
   "cell_type": "markdown",
   "id": "14258136-5b18-4bc4-9560-57d23a0c0d4c",
   "metadata": {},
   "source": [
    "## Introduction: "
   ]
  },
  {
   "cell_type": "markdown",
   "id": "384ed432-a4c2-44d5-997f-8f448f289bf7",
   "metadata": {},
   "source": [
    "## Required packages: "
   ]
  },
  {
   "cell_type": "code",
   "execution_count": null,
   "id": "cb93314e-5ff6-46a7-a175-ba17239789bd",
   "metadata": {},
   "outputs": [],
   "source": []
  }
 ],
 "metadata": {
  "kernelspec": {
   "display_name": "Python 3 (ipykernel)",
   "language": "python",
   "name": "python3"
  },
  "language_info": {
   "codemirror_mode": {
    "name": "ipython",
    "version": 3
   },
   "file_extension": ".py",
   "mimetype": "text/x-python",
   "name": "python",
   "nbconvert_exporter": "python",
   "pygments_lexer": "ipython3",
   "version": "3.12.11"
  }
 },
 "nbformat": 4,
 "nbformat_minor": 5
}
