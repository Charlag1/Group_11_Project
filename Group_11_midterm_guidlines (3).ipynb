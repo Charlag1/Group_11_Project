{
 "cells": [
  {
   "cell_type": "markdown",
   "id": "c727073b-24c3-4ff7-9365-f58a546b342c",
   "metadata": {},
   "source": [
    "# Spotify Songs Dataset "
   ]
  },
  {
   "cell_type": "markdown",
   "id": "14258136-5b18-4bc4-9560-57d23a0c0d4c",
   "metadata": {},
   "source": [
    "## Introduction: "
   ]
  },
  {
   "cell_type": "markdown",
   "id": "e0602698-4f25-4fbe-9b0b-2739d53f887c",
   "metadata": {},
   "source": [
    "In this project we will focus on analyzing Spotify song dataset to explore what makes certain songs more popular than others. The main questions guiding this analysis are focused around: genre of music correlation to popularity, audio features dancability, energy, and loudness in relations to a song's popularity. This topic is of interest because understanding the relationship between musical features and popularity can help artist, producers, and streaming platforms identify the trends that capture listeners' attention. It also provides a pratical way to use python data analysis techniques that we used to class to a real-world dataset.\n",
    "\n",
    "In order to provide a proffecient analysis on the dataset we must include variables such as track details, genre, popularity scores, and various audio features. Using Python, we will clean and preprocess the data, conduct exploratory data analysis and apply visulaixation techniques to uncover relationships and patterns. Techniques such as summary statistics, correlation, and regression modeling will be used to identify which features best predict a song's popularity. This will help artist and producers understand what makes music resonate with audiences and preform better on streaming platforms. \n",
    "\n",
    "    "
   ]
  },
  {
   "cell_type": "markdown",
   "id": "1cfc5ff8-d9e3-4d96-a5ec-b952f3496d0a",
   "metadata": {},
   "source": [
    "## Required packages: \n"
   ]
  },
  {
   "cell_type": "code",
   "execution_count": 9,
   "id": "decd53f1-9a21-4934-8d38-778ff64b9c0d",
   "metadata": {},
   "outputs": [],
   "source": [
    "import pandas as pd\n",
    "import numpy as np\n",
    "import matplotlib.pyplot as plt \n",
    "import seaborn as sns"
   ]
  },
  {
   "cell_type": "markdown",
   "id": "e1ed1625-450f-47c4-84d7-311a4b8ee430",
   "metadata": {},
   "source": [
    "## Data Preparation"
   ]
  },
  {
   "cell_type": "code",
   "execution_count": 3,
   "id": "dca506f9-7f30-4559-9165-1b2e462cf1a1",
   "metadata": {
    "collapsed": true,
    "jupyter": {
     "outputs_hidden": true
    },
    "scrolled": true
   },
   "outputs": [
    {
     "name": "stdout",
     "output_type": "stream",
     "text": [
      "                     track_id  \\\n",
      "0      6f807x0ima9a1j3VPbc7VN   \n",
      "1      0r7CVbZTWZgbTCYdfa2P31   \n",
      "2      1z1Hg7Vb0AhHDiEmnDE79l   \n",
      "3      75FpbthrwQmzHlBJLuGdC7   \n",
      "4      1e8PAfcKUYoKkxPhrHqw4x   \n",
      "...                       ...   \n",
      "32828  7bxnKAamR3snQ1VGLuVfC1   \n",
      "32829  5Aevni09Em4575077nkWHz   \n",
      "32830  7ImMqPP3Q1yfUHvsdn7wEo   \n",
      "32831  2m69mhnfQ1Oq6lGtXuYhgX   \n",
      "32832  29zWqhca3zt5NsckZqDf6c   \n",
      "\n",
      "                                              track_name      track_artist  \\\n",
      "0      I Don't Care (with Justin Bieber) - Loud Luxur...        Ed Sheeran   \n",
      "1                        Memories - Dillon Francis Remix          Maroon 5   \n",
      "2                        All the Time - Don Diablo Remix      Zara Larsson   \n",
      "3                      Call You Mine - Keanu Silva Remix  The Chainsmokers   \n",
      "4                Someone You Loved - Future Humans Remix     Lewis Capaldi   \n",
      "...                                                  ...               ...   \n",
      "32828               City Of Lights - Official Radio Edit      Lush & Simon   \n",
      "32829                Closer - Sultan & Ned Shepard Remix    Tegan and Sara   \n",
      "32830                       Sweet Surrender - Radio Edit       Starkillers   \n",
      "32831                     Only For You - Maor Levi Remix            Mat Zo   \n",
      "32832                             Typhoon - Original Mix      Julian Calor   \n",
      "\n",
      "       track_popularity          track_album_id  \\\n",
      "0                    66  2oCs0DGTsRO98Gh5ZSl2Cx   \n",
      "1                    67  63rPSO264uRjW1X5E6cWv6   \n",
      "2                    70  1HoSmj2eLcsrR0vE9gThr4   \n",
      "3                    60  1nqYsOef1yKKuGOVchbsk6   \n",
      "4                    69  7m7vv9wlQ4i0LFuJiE2zsQ   \n",
      "...                 ...                     ...   \n",
      "32828                42  2azRoBBWEEEYhqV6sb7JrT   \n",
      "32829                20  6kD6KLxj7s8eCE3ABvAyf5   \n",
      "32830                14  0ltWNSY9JgxoIZO4VzuCa6   \n",
      "32831                15  1fGrOkHnHJcStl14zNx8Jy   \n",
      "32832                27  0X3mUOm6MhxR7PzxG95rAo   \n",
      "\n",
      "                                        track_album_name  \\\n",
      "0      I Don't Care (with Justin Bieber) [Loud Luxury...   \n",
      "1                        Memories (Dillon Francis Remix)   \n",
      "2                        All the Time (Don Diablo Remix)   \n",
      "3                            Call You Mine - The Remixes   \n",
      "4                Someone You Loved (Future Humans Remix)   \n",
      "...                                                  ...   \n",
      "32828                         City Of Lights (Vocal Mix)   \n",
      "32829                                     Closer Remixed   \n",
      "32830                       Sweet Surrender (Radio Edit)   \n",
      "32831                             Only For You (Remixes)   \n",
      "32832                                      Typhoon/Storm   \n",
      "\n",
      "      track_album_release_date    playlist_name             playlist_id  \\\n",
      "0                   2019-06-14        Pop Remix  37i9dQZF1DXcZDD7cfEKhW   \n",
      "1                   2019-12-13        Pop Remix  37i9dQZF1DXcZDD7cfEKhW   \n",
      "2                   2019-07-05        Pop Remix  37i9dQZF1DXcZDD7cfEKhW   \n",
      "3                   2019-07-19        Pop Remix  37i9dQZF1DXcZDD7cfEKhW   \n",
      "4                   2019-03-05        Pop Remix  37i9dQZF1DXcZDD7cfEKhW   \n",
      "...                        ...              ...                     ...   \n",
      "32828               2014-04-28  ♥ EDM LOVE 2020  6jI1gFr6ANFtT8MmTvA2Ux   \n",
      "32829               2013-03-08  ♥ EDM LOVE 2020  6jI1gFr6ANFtT8MmTvA2Ux   \n",
      "32830               2014-04-21  ♥ EDM LOVE 2020  6jI1gFr6ANFtT8MmTvA2Ux   \n",
      "32831               2014-01-01  ♥ EDM LOVE 2020  6jI1gFr6ANFtT8MmTvA2Ux   \n",
      "32832               2014-03-03  ♥ EDM LOVE 2020  6jI1gFr6ANFtT8MmTvA2Ux   \n",
      "\n",
      "      playlist_genre  ... key  loudness  mode  speechiness  acousticness  \\\n",
      "0                pop  ...   6    -2.634     1       0.0583      0.102000   \n",
      "1                pop  ...  11    -4.969     1       0.0373      0.072400   \n",
      "2                pop  ...   1    -3.432     0       0.0742      0.079400   \n",
      "3                pop  ...   7    -3.778     1       0.1020      0.028700   \n",
      "4                pop  ...   1    -4.672     1       0.0359      0.080300   \n",
      "...              ...  ...  ..       ...   ...          ...           ...   \n",
      "32828            edm  ...   2    -1.814     1       0.0936      0.076600   \n",
      "32829            edm  ...   0    -4.462     1       0.0420      0.001710   \n",
      "32830            edm  ...   6    -4.899     0       0.0481      0.108000   \n",
      "32831            edm  ...   2    -3.361     1       0.1090      0.007920   \n",
      "32832            edm  ...   5    -4.571     0       0.0385      0.000133   \n",
      "\n",
      "       instrumentalness  liveness  valence    tempo  duration_ms  \n",
      "0              0.000000    0.0653   0.5180  122.036       194754  \n",
      "1              0.004210    0.3570   0.6930   99.972       162600  \n",
      "2              0.000023    0.1100   0.6130  124.008       176616  \n",
      "3              0.000009    0.2040   0.2770  121.956       169093  \n",
      "4              0.000000    0.0833   0.7250  123.976       189052  \n",
      "...                 ...       ...      ...      ...          ...  \n",
      "32828          0.000000    0.0668   0.2100  128.170       204375  \n",
      "32829          0.004270    0.3750   0.4000  128.041       353120  \n",
      "32830          0.000001    0.1500   0.4360  127.989       210112  \n",
      "32831          0.127000    0.3430   0.3080  128.008       367432  \n",
      "32832          0.341000    0.7420   0.0894  127.984       337500  \n",
      "\n",
      "[32833 rows x 23 columns]\n",
      "Index(['track_id', 'track_name', 'track_artist', 'track_popularity',\n",
      "       'track_album_id', 'track_album_name', 'track_album_release_date',\n",
      "       'playlist_name', 'playlist_id', 'playlist_genre', 'playlist_subgenre',\n",
      "       'danceability', 'energy', 'key', 'loudness', 'mode', 'speechiness',\n",
      "       'acousticness', 'instrumentalness', 'liveness', 'valence', 'tempo',\n",
      "       'duration_ms'],\n",
      "      dtype='object')\n"
     ]
    }
   ],
   "source": [
    "# Cleaning the data Step \n",
    "\n",
    "spotify_songs = pd.read_csv(\"spotify_songs.csv\")\n",
    "print(spotify_songs)\n",
    "\n",
    "column_names = spotify_songs.columns\n",
    "print(column_names)"
   ]
  },
  {
   "cell_type": "markdown",
   "id": "25909118-2d20-4b25-b13c-bc3d08f22ab7",
   "metadata": {},
   "source": [
    "##  Exploratory Data Analysis"
   ]
  },
  {
   "cell_type": "code",
   "execution_count": null,
   "id": "4ad00ebc-e173-4866-869a-673345d1aec3",
   "metadata": {},
   "outputs": [],
   "source": [
    "# we can visualize the different things we wanted to talk about such as genre, audio features. so one section can be about genre.\n",
    "#and the others can be about the audio features using correlation or something (WE can break this up so we all have a task to do once we clean the data)"
   ]
  }
 ],
 "metadata": {
  "kernelspec": {
   "display_name": "Python 3 (ipykernel)",
   "language": "python",
   "name": "python3"
  },
  "language_info": {
   "codemirror_mode": {
    "name": "ipython",
    "version": 3
   },
   "file_extension": ".py",
   "mimetype": "text/x-python",
   "name": "python",
   "nbconvert_exporter": "python",
   "pygments_lexer": "ipython3",
   "version": "3.12.11"
  }
 },
 "nbformat": 4,
 "nbformat_minor": 5
}
