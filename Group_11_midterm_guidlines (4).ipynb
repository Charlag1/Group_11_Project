{
 "cells": [
  {
   "cell_type": "markdown",
   "id": "c727073b-24c3-4ff7-9365-f58a546b342c",
   "metadata": {},
   "source": [
    "# Spotify Songs Dataset "
   ]
  },
  {
   "cell_type": "markdown",
   "id": "14258136-5b18-4bc4-9560-57d23a0c0d4c",
   "metadata": {},
   "source": [
    "## Introduction: "
   ]
  },
  {
   "cell_type": "markdown",
   "id": "e0602698-4f25-4fbe-9b0b-2739d53f887c",
   "metadata": {},
   "source": [
    "In this project we will focus on analyzing Spotify song dataset to explore what makes certain songs more popular than others. The main questions guiding this analysis are focused around: genre of music correlation to popularity, audio features dancability, energy, and loudness in relations to a song's popularity. This topic is of interest because understanding the relationship between musical features and popularity can help artist, producers, and streaming platforms identify the trends that capture listeners' attention. It also provides a pratical way to use python data analysis techniques that we used to class to a real-world dataset.\n",
    "\n",
    "In order to provide a proffecient analysis on the dataset we must include variables such as track details, genre, popularity scores, and various audio features. Using Python, we will clean and preprocess the data, conduct exploratory data analysis and apply visulaixation techniques to uncover relationships and patterns. Techniques such as summary statistics, correlation, and regression modeling will be used to identify which features best predict a song's popularity. This will help artist and producers understand what makes music resonate with audiences and preform better on streaming platforms. \n",
    "\n",
    "    "
   ]
  },
  {
   "cell_type": "markdown",
   "id": "1cfc5ff8-d9e3-4d96-a5ec-b952f3496d0a",
   "metadata": {},
   "source": [
    "## Required packages: \n"
   ]
  },
  {
   "cell_type": "code",
   "execution_count": 2,
   "id": "decd53f1-9a21-4934-8d38-778ff64b9c0d",
   "metadata": {},
   "outputs": [],
   "source": [
    "import pandas as pd\n",
    "import numpy as np\n",
    "import matplotlib.pyplot as plt \n",
    "import seaborn as sns"
   ]
  },
  {
   "cell_type": "markdown",
   "id": "e1ed1625-450f-47c4-84d7-311a4b8ee430",
   "metadata": {},
   "source": [
    "## Data Preparation"
   ]
  },
  {
   "cell_type": "markdown",
   "id": "7c30fa39-6d3f-490d-95f5-499419a2efa0",
   "metadata": {},
   "source": [
    "### The dataset, Spotify Songs contains a little over 30,000 track with general information (track name, artist, genre) and audio features (danceability, enery, loudness, valence). The purpose of the dataset is to analyze patterns in a song characteristic and popularity. \n",
    "\n",
    "## Pecularities: Minor missing values in some text or numeric field\n"
   ]
  },
  {
   "cell_type": "code",
   "execution_count": 7,
   "id": "dca506f9-7f30-4559-9165-1b2e462cf1a1",
   "metadata": {
    "collapsed": true,
    "jupyter": {
     "outputs_hidden": true
    },
    "scrolled": true
   },
   "outputs": [
    {
     "name": "stdout",
     "output_type": "stream",
     "text": [
      "                     track_id  \\\n",
      "0      6f807x0ima9a1j3VPbc7VN   \n",
      "1      0r7CVbZTWZgbTCYdfa2P31   \n",
      "2      1z1Hg7Vb0AhHDiEmnDE79l   \n",
      "3      75FpbthrwQmzHlBJLuGdC7   \n",
      "4      1e8PAfcKUYoKkxPhrHqw4x   \n",
      "...                       ...   \n",
      "32828  7bxnKAamR3snQ1VGLuVfC1   \n",
      "32829  5Aevni09Em4575077nkWHz   \n",
      "32830  7ImMqPP3Q1yfUHvsdn7wEo   \n",
      "32831  2m69mhnfQ1Oq6lGtXuYhgX   \n",
      "32832  29zWqhca3zt5NsckZqDf6c   \n",
      "\n",
      "                                              track_name      track_artist  \\\n",
      "0      I Don't Care (with Justin Bieber) - Loud Luxur...        Ed Sheeran   \n",
      "1                        Memories - Dillon Francis Remix          Maroon 5   \n",
      "2                        All the Time - Don Diablo Remix      Zara Larsson   \n",
      "3                      Call You Mine - Keanu Silva Remix  The Chainsmokers   \n",
      "4                Someone You Loved - Future Humans Remix     Lewis Capaldi   \n",
      "...                                                  ...               ...   \n",
      "32828               City Of Lights - Official Radio Edit      Lush & Simon   \n",
      "32829                Closer - Sultan & Ned Shepard Remix    Tegan and Sara   \n",
      "32830                       Sweet Surrender - Radio Edit       Starkillers   \n",
      "32831                     Only For You - Maor Levi Remix            Mat Zo   \n",
      "32832                             Typhoon - Original Mix      Julian Calor   \n",
      "\n",
      "       track_popularity          track_album_id  \\\n",
      "0                    66  2oCs0DGTsRO98Gh5ZSl2Cx   \n",
      "1                    67  63rPSO264uRjW1X5E6cWv6   \n",
      "2                    70  1HoSmj2eLcsrR0vE9gThr4   \n",
      "3                    60  1nqYsOef1yKKuGOVchbsk6   \n",
      "4                    69  7m7vv9wlQ4i0LFuJiE2zsQ   \n",
      "...                 ...                     ...   \n",
      "32828                42  2azRoBBWEEEYhqV6sb7JrT   \n",
      "32829                20  6kD6KLxj7s8eCE3ABvAyf5   \n",
      "32830                14  0ltWNSY9JgxoIZO4VzuCa6   \n",
      "32831                15  1fGrOkHnHJcStl14zNx8Jy   \n",
      "32832                27  0X3mUOm6MhxR7PzxG95rAo   \n",
      "\n",
      "                                        track_album_name  \\\n",
      "0      I Don't Care (with Justin Bieber) [Loud Luxury...   \n",
      "1                        Memories (Dillon Francis Remix)   \n",
      "2                        All the Time (Don Diablo Remix)   \n",
      "3                            Call You Mine - The Remixes   \n",
      "4                Someone You Loved (Future Humans Remix)   \n",
      "...                                                  ...   \n",
      "32828                         City Of Lights (Vocal Mix)   \n",
      "32829                                     Closer Remixed   \n",
      "32830                       Sweet Surrender (Radio Edit)   \n",
      "32831                             Only For You (Remixes)   \n",
      "32832                                      Typhoon/Storm   \n",
      "\n",
      "      track_album_release_date    playlist_name             playlist_id  \\\n",
      "0                   2019-06-14        Pop Remix  37i9dQZF1DXcZDD7cfEKhW   \n",
      "1                   2019-12-13        Pop Remix  37i9dQZF1DXcZDD7cfEKhW   \n",
      "2                   2019-07-05        Pop Remix  37i9dQZF1DXcZDD7cfEKhW   \n",
      "3                   2019-07-19        Pop Remix  37i9dQZF1DXcZDD7cfEKhW   \n",
      "4                   2019-03-05        Pop Remix  37i9dQZF1DXcZDD7cfEKhW   \n",
      "...                        ...              ...                     ...   \n",
      "32828               2014-04-28  ♥ EDM LOVE 2020  6jI1gFr6ANFtT8MmTvA2Ux   \n",
      "32829               2013-03-08  ♥ EDM LOVE 2020  6jI1gFr6ANFtT8MmTvA2Ux   \n",
      "32830               2014-04-21  ♥ EDM LOVE 2020  6jI1gFr6ANFtT8MmTvA2Ux   \n",
      "32831               2014-01-01  ♥ EDM LOVE 2020  6jI1gFr6ANFtT8MmTvA2Ux   \n",
      "32832               2014-03-03  ♥ EDM LOVE 2020  6jI1gFr6ANFtT8MmTvA2Ux   \n",
      "\n",
      "      playlist_genre  ... key  loudness  mode  speechiness  acousticness  \\\n",
      "0                pop  ...   6    -2.634     1       0.0583      0.102000   \n",
      "1                pop  ...  11    -4.969     1       0.0373      0.072400   \n",
      "2                pop  ...   1    -3.432     0       0.0742      0.079400   \n",
      "3                pop  ...   7    -3.778     1       0.1020      0.028700   \n",
      "4                pop  ...   1    -4.672     1       0.0359      0.080300   \n",
      "...              ...  ...  ..       ...   ...          ...           ...   \n",
      "32828            edm  ...   2    -1.814     1       0.0936      0.076600   \n",
      "32829            edm  ...   0    -4.462     1       0.0420      0.001710   \n",
      "32830            edm  ...   6    -4.899     0       0.0481      0.108000   \n",
      "32831            edm  ...   2    -3.361     1       0.1090      0.007920   \n",
      "32832            edm  ...   5    -4.571     0       0.0385      0.000133   \n",
      "\n",
      "       instrumentalness  liveness  valence    tempo  duration_ms  \n",
      "0              0.000000    0.0653   0.5180  122.036       194754  \n",
      "1              0.004210    0.3570   0.6930   99.972       162600  \n",
      "2              0.000023    0.1100   0.6130  124.008       176616  \n",
      "3              0.000009    0.2040   0.2770  121.956       169093  \n",
      "4              0.000000    0.0833   0.7250  123.976       189052  \n",
      "...                 ...       ...      ...      ...          ...  \n",
      "32828          0.000000    0.0668   0.2100  128.170       204375  \n",
      "32829          0.004270    0.3750   0.4000  128.041       353120  \n",
      "32830          0.000001    0.1500   0.4360  127.989       210112  \n",
      "32831          0.127000    0.3430   0.3080  128.008       367432  \n",
      "32832          0.341000    0.7420   0.0894  127.984       337500  \n",
      "\n",
      "[32833 rows x 23 columns]\n",
      "Index(['track_id', 'track_name', 'track_artist', 'track_popularity',\n",
      "       'track_album_id', 'track_album_name', 'track_album_release_date',\n",
      "       'playlist_name', 'playlist_id', 'playlist_genre', 'playlist_subgenre',\n",
      "       'danceability', 'energy', 'key', 'loudness', 'mode', 'speechiness',\n",
      "       'acousticness', 'instrumentalness', 'liveness', 'valence', 'tempo',\n",
      "       'duration_ms'],\n",
      "      dtype='object')\n",
      "Missing values before cleaning:\n",
      "track_id                    0\n",
      "track_name                  5\n",
      "track_artist                5\n",
      "track_popularity            0\n",
      "track_album_id              0\n",
      "track_album_name            5\n",
      "track_album_release_date    0\n",
      "playlist_name               0\n",
      "playlist_id                 0\n",
      "playlist_genre              0\n",
      "playlist_subgenre           0\n",
      "danceability                0\n",
      "energy                      0\n",
      "key                         0\n",
      "loudness                    0\n",
      "mode                        0\n",
      "speechiness                 0\n",
      "acousticness                0\n",
      "instrumentalness            0\n",
      "liveness                    0\n",
      "valence                     0\n",
      "tempo                       0\n",
      "duration_ms                 0\n",
      "dtype: int64\n",
      "\n",
      "Missing values after cleaning:\n",
      "track_id                    0\n",
      "track_name                  0\n",
      "track_artist                0\n",
      "track_popularity            0\n",
      "track_album_id              0\n",
      "track_album_name            0\n",
      "track_album_release_date    0\n",
      "playlist_name               0\n",
      "playlist_id                 0\n",
      "playlist_genre              0\n",
      "playlist_subgenre           0\n",
      "danceability                0\n",
      "energy                      0\n",
      "key                         0\n",
      "loudness                    0\n",
      "mode                        0\n",
      "speechiness                 0\n",
      "acousticness                0\n",
      "instrumentalness            0\n",
      "liveness                    0\n",
      "valence                     0\n",
      "tempo                       0\n",
      "duration_ms                 0\n",
      "dtype: int64\n",
      "Duplicate rows: 0\n"
     ]
    }
   ],
   "source": [
    "# Cleaning the data Step \n",
    "\n",
    "spotify_uncleaned = pd.read_csv(\"spotify_songs.csv\")\n",
    "print(spotify_uncleaned)\n",
    "\n",
    "column_names = spotify_uncleaned.columns\n",
    "print(column_names)\n",
    "\n",
    "#Missing data \n",
    "print(\"Missing values before cleaning:\")\n",
    "print(spotify_uncleaned.isnull().sum())  # five missing values in track_album_name\n",
    "\n",
    "spotify_songs = spotify_uncleaned.dropna()\n",
    "print(\"\\nMissing values after cleaning:\")\n",
    "print(spotify_songs.isnull().sum())\n",
    "\n",
    "# Check for duplicate songs \n",
    "print(\"Duplicate rows:\", spotify_songs.duplicated().sum())  # 0 duplicated songs \n",
    "\n",
    "\n"
   ]
  },
  {
   "cell_type": "markdown",
   "id": "fe9c1ece-25a6-4007-84c6-473702d10ccd",
   "metadata": {},
   "source": [
    "## Cleaned dataset: The cleaned dataset contains complete, valiad track data ready for analysis. All missing or duplicated values were removed."
   ]
  },
  {
   "cell_type": "markdown",
   "id": "25909118-2d20-4b25-b13c-bc3d08f22ab7",
   "metadata": {},
   "source": [
    "##  Exploratory Data Analysis"
   ]
  },
  {
   "cell_type": "code",
   "execution_count": null,
   "id": "4ad00ebc-e173-4866-869a-673345d1aec3",
   "metadata": {},
   "outputs": [],
   "source": [
    "# we can visualize the different things we wanted to talk about such as genre, audio features. so one section can be about genre.\n",
    "#and the others can be about the audio features using correlation or something (WE can break this up so we all have a task to do once we clean the data)"
   ]
  },
  {
   "cell_type": "code",
   "execution_count": 9,
   "id": "d771a9f6-5640-4a8f-bee7-9031d25f094f",
   "metadata": {},
   "outputs": [
    {
     "data": {
      "text/html": [
       "<div>\n",
       "<style scoped>\n",
       "    .dataframe tbody tr th:only-of-type {\n",
       "        vertical-align: middle;\n",
       "    }\n",
       "\n",
       "    .dataframe tbody tr th {\n",
       "        vertical-align: top;\n",
       "    }\n",
       "\n",
       "    .dataframe thead th {\n",
       "        text-align: right;\n",
       "    }\n",
       "</style>\n",
       "<table border=\"1\" class=\"dataframe\">\n",
       "  <thead>\n",
       "    <tr style=\"text-align: right;\">\n",
       "      <th></th>\n",
       "      <th>track_popularity</th>\n",
       "      <th>danceability</th>\n",
       "      <th>energy</th>\n",
       "      <th>loudness</th>\n",
       "      <th>valence</th>\n",
       "      <th>tempo</th>\n",
       "    </tr>\n",
       "  </thead>\n",
       "  <tbody>\n",
       "    <tr>\n",
       "      <th>count</th>\n",
       "      <td>32828.000000</td>\n",
       "      <td>32828.000000</td>\n",
       "      <td>32828.000000</td>\n",
       "      <td>32828.000000</td>\n",
       "      <td>32828.000000</td>\n",
       "      <td>32828.000000</td>\n",
       "    </tr>\n",
       "    <tr>\n",
       "      <th>mean</th>\n",
       "      <td>42.483551</td>\n",
       "      <td>0.654850</td>\n",
       "      <td>0.698603</td>\n",
       "      <td>-6.719529</td>\n",
       "      <td>0.510556</td>\n",
       "      <td>120.883642</td>\n",
       "    </tr>\n",
       "    <tr>\n",
       "      <th>std</th>\n",
       "      <td>24.980476</td>\n",
       "      <td>0.145092</td>\n",
       "      <td>0.180916</td>\n",
       "      <td>2.988641</td>\n",
       "      <td>0.233152</td>\n",
       "      <td>26.903632</td>\n",
       "    </tr>\n",
       "    <tr>\n",
       "      <th>min</th>\n",
       "      <td>0.000000</td>\n",
       "      <td>0.000000</td>\n",
       "      <td>0.000175</td>\n",
       "      <td>-46.448000</td>\n",
       "      <td>0.000000</td>\n",
       "      <td>0.000000</td>\n",
       "    </tr>\n",
       "    <tr>\n",
       "      <th>25%</th>\n",
       "      <td>24.000000</td>\n",
       "      <td>0.563000</td>\n",
       "      <td>0.581000</td>\n",
       "      <td>-8.171250</td>\n",
       "      <td>0.331000</td>\n",
       "      <td>99.961000</td>\n",
       "    </tr>\n",
       "    <tr>\n",
       "      <th>50%</th>\n",
       "      <td>45.000000</td>\n",
       "      <td>0.672000</td>\n",
       "      <td>0.721000</td>\n",
       "      <td>-6.166000</td>\n",
       "      <td>0.512000</td>\n",
       "      <td>121.984000</td>\n",
       "    </tr>\n",
       "    <tr>\n",
       "      <th>75%</th>\n",
       "      <td>62.000000</td>\n",
       "      <td>0.761000</td>\n",
       "      <td>0.840000</td>\n",
       "      <td>-4.645000</td>\n",
       "      <td>0.693000</td>\n",
       "      <td>133.918250</td>\n",
       "    </tr>\n",
       "    <tr>\n",
       "      <th>max</th>\n",
       "      <td>100.000000</td>\n",
       "      <td>0.983000</td>\n",
       "      <td>1.000000</td>\n",
       "      <td>1.275000</td>\n",
       "      <td>0.991000</td>\n",
       "      <td>239.440000</td>\n",
       "    </tr>\n",
       "  </tbody>\n",
       "</table>\n",
       "</div>"
      ],
      "text/plain": [
       "       track_popularity  danceability        energy      loudness  \\\n",
       "count      32828.000000  32828.000000  32828.000000  32828.000000   \n",
       "mean          42.483551      0.654850      0.698603     -6.719529   \n",
       "std           24.980476      0.145092      0.180916      2.988641   \n",
       "min            0.000000      0.000000      0.000175    -46.448000   \n",
       "25%           24.000000      0.563000      0.581000     -8.171250   \n",
       "50%           45.000000      0.672000      0.721000     -6.166000   \n",
       "75%           62.000000      0.761000      0.840000     -4.645000   \n",
       "max          100.000000      0.983000      1.000000      1.275000   \n",
       "\n",
       "            valence         tempo  \n",
       "count  32828.000000  32828.000000  \n",
       "mean       0.510556    120.883642  \n",
       "std        0.233152     26.903632  \n",
       "min        0.000000      0.000000  \n",
       "25%        0.331000     99.961000  \n",
       "50%        0.512000    121.984000  \n",
       "75%        0.693000    133.918250  \n",
       "max        0.991000    239.440000  "
      ]
     },
     "execution_count": 9,
     "metadata": {},
     "output_type": "execute_result"
    }
   ],
   "source": [
    "# Summary table of audio features\n",
    "spotify_songs[['track_popularity','danceability','energy','loudness','valence','tempo']].describe()"
   ]
  },
  {
   "cell_type": "markdown",
   "id": "4d5f9b23-aa2d-49a8-a1de-61ac7411301e",
   "metadata": {},
   "source": [
    "### danceability and energy average are high, indicating Spotify's popular songs leans towards upbeat and rhythmic music. "
   ]
  },
  {
   "cell_type": "code",
   "execution_count": 11,
   "id": "e822d2bc-27b3-40a5-a970-7f7bce4bd541",
   "metadata": {},
   "outputs": [
    {
     "data": {
      "text/plain": [
       "<Axes: xlabel='playlist_genre', ylabel='track_popularity'>"
      ]
     },
     "execution_count": 11,
     "metadata": {},
     "output_type": "execute_result"
    },
    {
     "data": {
      "image/png": "[encoded data removed]",
      "text/plain": [
       "<Figure size 640x480 with 1 Axes>"
      ]
     },
     "metadata": {},
     "output_type": "display_data"
    }
   ],
   "source": [
    "sns.boxplot(x='playlist_genre', y='track_popularity', data=spotify_songs)"
   ]
  },
  {
   "cell_type": "code",
   "execution_count": null,
   "id": "a58de56c-42be-4575-8b49-140ac9ddb3c2",
   "metadata": {},
   "outputs": [],
   "source": []
  }
 ],
 "metadata": {
  "kernelspec": {
   "display_name": "Python 3 (ipykernel)",
   "language": "python",
   "name": "python3"
  },
  "language_info": {
   "codemirror_mode": {
    "name": "ipython",
    "version": 3
   },
   "file_extension": ".py",
   "mimetype": "text/x-python",
   "name": "python",
   "nbconvert_exporter": "python",
   "pygments_lexer": "ipython3",
   "version": "3.12.11"
  }
 },
 "nbformat": 4,
 "nbformat_minor": 5
}
