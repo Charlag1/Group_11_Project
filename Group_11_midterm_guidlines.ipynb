{
 "cells": [
  {
   "cell_type": "markdown",
   "id": "14258136-5b18-4bc4-9560-57d23a0c0d4c",
   "metadata": {},
   "source": [
    "# Introduction: "
   ]
  },
  {
   "cell_type": "code",
   "execution_count": null,
   "id": "e31bfae3-c77f-484b-885f-0535e786e360",
   "metadata": {},
   "outputs": [],
   "source": []
  }
 ],
 "metadata": {
  "kernelspec": {
   "display_name": "Python 3 (ipykernel)",
   "language": "python",
   "name": "python3"
  },
  "language_info": {
   "codemirror_mode": {
    "name": "ipython",
    "version": 3
   },
   "file_extension": ".py",
   "mimetype": "text/x-python",
   "name": "python",
   "nbconvert_exporter": "python",
   "pygments_lexer": "ipython3",
   "version": "3.12.11"
  }
 },
 "nbformat": 4,
 "nbformat_minor": 5
}
